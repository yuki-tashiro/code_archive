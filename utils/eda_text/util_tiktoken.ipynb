{
 "cells": [
  {
   "cell_type": "markdown",
   "metadata": {},
   "source": [
    "# 概要\n",
    "tiktoken は、OpenAI が開発した トークナイザー（tokenizer） のライブラリで、GPT系のモデル（たとえば gpt-3.5-turbo や gpt-4）が入力テキストを処理する際に、どのようにトークンに分割するかを決定するために使われます。\n",
    "URL(https://github.com/openai/tiktoken)\n",
    "\n",
    "# install\n",
    "```bash\n",
    "pip install tiktoken\n",
    "```\n",
    "\n",
    "\n",
    "# よく使用される用途\n",
    "- チャット履歴のトークン数を計測して、モデルの制限内に収める\n",
    "- プロンプトの設計（token制限を意識）\n",
    "- コスト計算（OpenAIのAPIはトークン数に応じて課金）\n"
   ]
  },
  {
   "cell_type": "markdown",
   "metadata": {},
   "source": [
    "# textのトークン数を計算"
   ]
  },
  {
   "cell_type": "code",
   "execution_count": null,
   "metadata": {},
   "outputs": [],
   "source": [
    "import tiktoken\n",
    "\n",
    "def count_tokens(text: str, encoding_name: str = \"cl100k_base\") -> int:\n",
    "    \"\"\"\n",
    "    指定したテキストのトークン数を計算する関数。\n",
    "\n",
    "    Args:\n",
    "        text (str): トークン数を数えたい文字列。\n",
    "        encoding_name (str): 使用するトークナイザの名前（デフォルト: \"cl100k_base\"）。これは、GPT-4, 3.5用\n",
    "\n",
    "    Returns:\n",
    "        int: テキストのトークン数。\n",
    "\n",
    "    使用例:\n",
    "        >>> count_tokens(\"Hello World!\")\n",
    "        3\n",
    "    \"\"\"\n",
    "    enc = tiktoken.get_encoding(encoding_name)\n",
    "    tokens = enc.encode(text)\n",
    "    return len(tokens)\n",
    "\n",
    "system_prompt = \"あなたは優秀なアシスタントです。AをBに変換してください。\"\n",
    "count_tokens(system_prompt)"
   ]
  }
 ],
 "metadata": {
  "language_info": {
   "name": "python"
  }
 },
 "nbformat": 4,
 "nbformat_minor": 2
}
