{
 "cells": [
  {
   "cell_type": "markdown",
   "metadata": {},
   "source": [
    "**Python デコレータ（decorator）とは？**\n",
    "\n",
    "- デコレータとは\n",
    "    - デコレータは関数やクラスの前後に特定の処理を追加できる機能です。関数やクラス宣言の前に@デコレータ名を記述することで実現\n",
    "    - 関数やメソッドに追加の機能を付与するための構文です。デコレータは、他の関数を引数として受け取り、拡張された機能を持つ新しい関数を返します。これにより、コードの再利用性が向上し、関数の振る舞いを簡単に変更できます。"
   ]
  },
  {
   "cell_type": "code",
   "execution_count": 1,
   "metadata": {},
   "outputs": [
    {
     "name": "stdout",
     "output_type": "stream",
     "text": [
      "Start\n",
      "Apple\n",
      "End\n"
     ]
    }
   ],
   "source": [
    "def start_end(func):\n",
    "    def add_start_end():\n",
    "        print('Start')\n",
    "        func()\n",
    "        print('End')\n",
    "    return add_start_end\n",
    "\n",
    "def print_apple():\n",
    "    print('Apple')\n",
    "\n",
    "start_end(print_apple)()"
   ]
  },
  {
   "cell_type": "markdown",
   "metadata": {},
   "source": [
    "全く同じ内容を@で書き換える"
   ]
  },
  {
   "cell_type": "code",
   "execution_count": 3,
   "metadata": {},
   "outputs": [
    {
     "name": "stdout",
     "output_type": "stream",
     "text": [
      "Start\n",
      "Apple\n",
      "End\n"
     ]
    }
   ],
   "source": [
    "def start_end(func):\n",
    "    def add_start_end():\n",
    "        print('Start')\n",
    "        func()\n",
    "        print('End')\n",
    "    return add_start_end\n",
    "\n",
    "@start_end\n",
    "def print_apple():\n",
    "    print('Apple')\n",
    "\n",
    "print_apple()"
   ]
  },
  {
   "cell_type": "markdown",
   "metadata": {},
   "source": [
    "引数がある場合、**可変超引数**を用いれば良い\n",
    "- *args **kwargs"
   ]
  },
  {
   "cell_type": "code",
   "execution_count": 7,
   "metadata": {},
   "outputs": [
    {
     "name": "stdout",
     "output_type": "stream",
     "text": [
      "Start\n",
      "3\n",
      "End\n"
     ]
    }
   ],
   "source": [
    "def start_end(func):\n",
    "    def add_start_end(*args, **kwargs):\n",
    "        print('Start')\n",
    "        func(*args, **kwargs)\n",
    "        print('End')\n",
    "    return add_start_end\n",
    "\n",
    "@start_end\n",
    "def add_two_number(a, b):\n",
    "    print(a + b)\n",
    "    return a + b\n",
    "\n",
    "add_two_number(1, 2)"
   ]
  },
  {
   "cell_type": "code",
   "execution_count": null,
   "metadata": {},
   "outputs": [],
   "source": []
  }
 ],
 "metadata": {
  "kernelspec": {
   "display_name": "3.12.6",
   "language": "python",
   "name": "python3"
  },
  "language_info": {
   "codemirror_mode": {
    "name": "ipython",
    "version": 3
   },
   "file_extension": ".py",
   "mimetype": "text/x-python",
   "name": "python",
   "nbconvert_exporter": "python",
   "pygments_lexer": "ipython3",
   "version": "3.12.6"
  }
 },
 "nbformat": 4,
 "nbformat_minor": 2
}
