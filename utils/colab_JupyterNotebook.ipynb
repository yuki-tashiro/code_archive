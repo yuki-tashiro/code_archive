{
 "cells": [
  {
   "cell_type": "markdown",
   "metadata": {},
   "source": [
    "mountするコード"
   ]
  },
  {
   "cell_type": "code",
   "execution_count": null,
   "metadata": {},
   "outputs": [],
   "source": [
    "from google.colab import drive\n",
    "drive.mount('/content/drive')"
   ]
  },
  {
   "cell_type": "markdown",
   "metadata": {},
   "source": [
    "KEYの取得"
   ]
  },
  {
   "cell_type": "code",
   "execution_count": null,
   "metadata": {},
   "outputs": [],
   "source": [
    "import os\n",
    "from google.colab import userdata\n",
    "\n",
    "os.environ[\"WANDB_API_KEY\"] = userdata.get(\"WANDB_API_KEY\") # GET WANDB KEY"
   ]
  },
  {
   "cell_type": "markdown",
   "metadata": {},
   "source": [
    "colabを修了する"
   ]
  },
  {
   "cell_type": "code",
   "execution_count": null,
   "metadata": {},
   "outputs": [],
   "source": [
    "from google.colab import runtime\n",
    "\n",
    "runtime.unassign()"
   ]
  },
  {
   "cell_type": "code",
   "execution_count": null,
   "metadata": {},
   "outputs": [],
   "source": [
    "from google.colab import runtime\n",
    "import wandb\n",
    "\n",
    "wandb.finish()\n",
    "runtime.unassign()"
   ]
  },
  {
   "cell_type": "markdown",
   "metadata": {},
   "source": [
    "# Jupyter Notebookについて"
   ]
  },
  {
   "cell_type": "markdown",
   "metadata": {},
   "source": [
    "pythonの実行コードを終了させる方法\n",
    "- os._exit(n)\n",
    "    - プロセス全体を強制終了させる低レベルの関数で、通常のクリーンアップ処理や例外処理を一切行わずにプログラムを即座に停止する\n",
    "    - doc: https://docs.python.org/ja/3/library/os.html#os._exit\n",
    "    - 例付き: https://www.python.digibeatrix.com/archives/335\n",
    "\n",
    "- sys.exit(n)\n",
    "    - 他の方法\n",
    "- TODO: どっちがいいの？"
   ]
  },
  {
   "cell_type": "code",
   "execution_count": null,
   "metadata": {},
   "outputs": [],
   "source": [
    "import os\n",
    "os._exit(0)"
   ]
  },
  {
   "cell_type": "code",
   "execution_count": null,
   "metadata": {},
   "outputs": [],
   "source": [
    "import sys\n",
    "sys.exit(0)  # 正常終了\n",
    "sys.exit(1)  # 異常終了\n"
   ]
  },
  {
   "cell_type": "markdown",
   "metadata": {},
   "source": [
    "# colabから指定したファイルのみのrequirements.txtの作成"
   ]
  },
  {
   "cell_type": "markdown",
   "metadata": {},
   "source": [
    "目的: colabの環境を再現することで、別環境でのバージョンエラーを防ぐ"
   ]
  },
  {
   "cell_type": "code",
   "execution_count": null,
   "metadata": {},
   "outputs": [],
   "source": [
    "def generate_colab_requirements(input_path, output_path, install_list):\n",
    "    \"\"\"\n",
    "    google colabのrequirements.txt から指定したパッケージ名のみを抽出し、別ファイルに保存する。\n",
    "    \n",
    "    Parameters:\n",
    "        input_path (str): 読み込む requirements.txt のパス\n",
    "        output_path (str): 出力するファイルのパス\n",
    "        install_list (list): 抽出したいパッケージ名リスト\n",
    "    \"\"\"\n",
    "    # .txt を取得\n",
    "    with open(input_path, \"r\", encoding=\"utf-8\") as f:\n",
    "        content = f.read()\n",
    "        # print(content)\n",
    "\n",
    "    # contentを1回だけ処理して、辞書化（package_name -> full line）\n",
    "    requirements_dict = {}\n",
    "    for line in content.splitlines():\n",
    "        line = line.strip()\n",
    "        # TODO: xxx @ https:yyy 形式のパッケージには非対応\n",
    "        if \"==\" in line:\n",
    "            name, version = line.split(\"==\", 1)\n",
    "            requirements_dict[name.strip()] = line  # フルラインを保存\n",
    "\n",
    "    # install_list に含まれるものだけ抽出\n",
    "    found_packages = {\n",
    "        pkg: requirements_dict[pkg]\n",
    "        for pkg in install_list if pkg in requirements_dict\n",
    "    }\n",
    "\n",
    "    # 結果を出力ファイルに保存\n",
    "    with open(output_path, \"w\", encoding=\"utf-8\") as f:\n",
    "        for line in found_packages.values():\n",
    "            f.write(line + \"\\n\")\n",
    "\n",
    "    print(f\"✅ {output_path} に保存しました！\")\n",
    "    print(f\"\\nファイル内容\\n\\n{found_packages}\")\n",
    "\n",
    "\n",
    "# --------------------------------\n",
    "# 使用例\n",
    "\n",
    "!python --version\n",
    "!pip freeze > requirements.txt\n",
    "\n",
    "install_list = [\n",
    "    'numpy',\n",
    "    'pandas',\n",
    "    'matplotlib',\n",
    "    'torch',\n",
    "    'tqdm',\n",
    "    'scikit-learn',\n",
    "    'opencv-python',\n",
    "    'albumentations',\n",
    "    'scikit-image',\n",
    "    'opencv-contrib-python',\n",
    "    'transformers'\n",
    "]\n",
    "\n",
    "generate_colab_requirements(\"requirements.txt\", \"simple_colab_requirements.txt\", install_list)\n"
   ]
  },
  {
   "cell_type": "markdown",
   "metadata": {},
   "source": [
    "Python 3.11.11\n",
    "✅ simple_colab_requirements.txt に保存しました！\n",
    "\n",
    "ファイル内容\n",
    "\n",
    "{'numpy': 'numpy==2.0.2', 'pandas': 'pandas==2.2.2', 'matplotlib': 'matplotlib==3.10.0', 'tqdm': 'tqdm==4.67.1', 'scikit-learn': 'scikit-learn==1.6.1', 'opencv-python': 'opencv-python==4.11.0.86', 'albumentations': 'albumentations==2.0.5', 'scikit-image': 'scikit-image==0.25.2', 'opencv-contrib-python': 'opencv-contrib-python==4.11.0.86', 'transformers': 'transformers==4.50.3'}"
   ]
  },
  {
   "cell_type": "markdown",
   "metadata": {},
   "source": []
  }
 ],
 "metadata": {
  "language_info": {
   "name": "python"
  }
 },
 "nbformat": 4,
 "nbformat_minor": 2
}
