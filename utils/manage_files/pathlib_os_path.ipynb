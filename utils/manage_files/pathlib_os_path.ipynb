{
 "cells": [
  {
   "cell_type": "markdown",
   "metadata": {},
   "source": [
    "# Pathlib / os.pathをマスターする\n",
    "\n",
    "まとめ\n",
    "\n",
    "![Pathlibの解説](/Users/yukitashiro/Documents/GitHub/code_archive/code_archive/utils/manage_files/pathlib_os_path_img.avif)\n",
    "\n",
    "## 概要\n",
    "\n",
    "Pathlibとos.pathの違い\n",
    "- パス\n",
    "    - Pathlib: オブジェクト指向でパスを扱う\n",
    "    - os.path: 文字列でパスを扱う\n",
    "- Error メッセージ（Ex. 存在しないパスがあった場合）\n",
    "    - Pathlib: 特定のFileNotFoundErrorを返す\n",
    "    - os.path: 一般的なOSErrorを返す\n",
    "\n",
    "## 目次\n",
    "\n",
    "## References\n",
    "- Pathlib/os.pathの違いに関して: https://qiita.com/Tadataka_Takahashi/items/9d6eab971afbf9415ed1\n",
    "- スライドで解説: https://www.docswell.com/s/nibuno/KME6G5-2022-11-07-214625\n"
   ]
  },
  {
   "cell_type": "code",
   "execution_count": 18,
   "metadata": {},
   "outputs": [
    {
     "name": "stdout",
     "output_type": "stream",
     "text": [
      "Path: folder/file.txt\n",
      "Directory: folder\n",
      "Filename: file.txt\n",
      "\n",
      "\n",
      "Path: folder/file.txt\n",
      "Directory: folder\n",
      "Filename: file.txt\n",
      "\n",
      "\n",
      "Stemname: file\n",
      "Suffixname: .txt\n",
      "path exists: False\n",
      "is file: False\n",
      "is directory: False\n"
     ]
    }
   ],
   "source": [
    "# os.path\n",
    "import os\n",
    "path = os.path.join('folder', 'file.txt')\n",
    "dirname = os.path.dirname(path)\n",
    "basename = os.path.basename(path)\n",
    "\n",
    "print(f\"Path: {path}\")\n",
    "print(f\"Directory: {dirname}\")\n",
    "print(f\"Filename: {basename}\")\n",
    "print(\"\\n\")\n",
    "\n",
    "# pathlib\n",
    "from pathlib import Path\n",
    "path = Path('folder') / 'file.txt'\n",
    "dirname = path.parent\n",
    "basename = path.name\n",
    "stemname = path.stem\n",
    "suffixname = path.suffix\n",
    "\n",
    "print(f\"Path: {path}\")\n",
    "print(f\"Directory: {dirname}\")\n",
    "print(f\"Filename: {basename}\")\n",
    "print(\"\\n\")\n",
    "print(f\"Stemname: {stemname}\")\n",
    "print(f\"Suffixname: {suffixname}\")\n",
    "print(f\"path exists: {path.exists()}\")\n",
    "print(f\"is file: {path.is_file()}\")\n",
    "print(f\"is directory: {path.is_dir()}\")\n"
   ]
  },
  {
   "cell_type": "code",
   "execution_count": 7,
   "metadata": {},
   "outputs": [
    {
     "name": "stdout",
     "output_type": "stream",
     "text": [
      "example.txt does not exist\n",
      "\n",
      "\n",
      "example.txt does not exist\n"
     ]
    }
   ],
   "source": [
    "# os.path\n",
    "import os\n",
    "\n",
    "filename = 'example.txt'\n",
    "if os.path.exists(filename):\n",
    "    print(f\"{filename} exists\")\n",
    "    size = os.path.getsize(filename)\n",
    "    print(f\"File size: {size} bytes\")\n",
    "else:\n",
    "    print(f\"{filename} does not exist\")\n",
    "print('\\n')\n",
    "\n",
    "# pathlib\n",
    "from pathlib import Path\n",
    "\n",
    "filename = Path('example.txt')\n",
    "if filename.exists():\n",
    "    print(f\"{filename} exists\")\n",
    "    size = filename.stat().st_size\n",
    "    print(f\"File size: {size} bytes\")\n",
    "else:\n",
    "    print(f\"{filename} does not exist\")\n"
   ]
  },
  {
   "cell_type": "code",
   "execution_count": null,
   "metadata": {},
   "outputs": [],
   "source": [
    "import os\n",
    "\n",
    "# 保存先のフォルダパスを指定\n",
    "folder_path = \"/Users/yukitashiro/Documents/GitHub/code_archive/code_archive/utils/manage_files\"\n",
    "\n",
    "# フォルダが存在しない場合、フォルダを作成\n",
    "os.makedirs(folder_path, exist_ok=True)\n",
    "\n",
    "# ここでファイルを保存\n",
    "file_path = os.path.join(folder_path, \"your_file.txt\")\n",
    "with open(file_path, \"w\") as f:\n",
    "    f.write(\"Hello, world!\")\n",
    "\n",
    "\n",
    "from pathlib import Path\n",
    "\n",
    "# 保存先のフォルダパスを指定\n",
    "folder_path = Path(\"/Users/yukitashiro/Documents/GitHub/code_archive/code_archive/utils/manage_files\")\n",
    "\n",
    "# フォルダが存在しない場合、フォルダを作成。 親ディレクトリの自動作成と対象のディレクトリが存在する場合には続行。\n",
    "folder_path.mkdir(parents=True, exist_ok=True)\n",
    "\n",
    "# ここでファイルを保存\n",
    "file_path = folder_path / \"your_file.txt\"\n",
    "with file_path.open(\"w\") as f:\n",
    "    f.write(\"Hello, world!\")"
   ]
  },
  {
   "cell_type": "code",
   "execution_count": null,
   "metadata": {},
   "outputs": [],
   "source": []
  }
 ],
 "metadata": {
  "kernelspec": {
   "display_name": "code_archive",
   "language": "python",
   "name": "code_archive"
  },
  "language_info": {
   "codemirror_mode": {
    "name": "ipython",
    "version": 3
   },
   "file_extension": ".py",
   "mimetype": "text/x-python",
   "name": "python",
   "nbconvert_exporter": "python",
   "pygments_lexer": "ipython3",
   "version": "3.11.11"
  }
 },
 "nbformat": 4,
 "nbformat_minor": 2
}
