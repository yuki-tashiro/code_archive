{
 "cells": [
  {
   "cell_type": "markdown",
   "metadata": {},
   "source": [
    "mountするコード"
   ]
  },
  {
   "cell_type": "code",
   "execution_count": null,
   "metadata": {},
   "outputs": [],
   "source": [
    "from google.colab import drive\n",
    "drive.mount('/content/drive')"
   ]
  },
  {
   "cell_type": "markdown",
   "metadata": {},
   "source": [
    "colabを修了する"
   ]
  },
  {
   "cell_type": "code",
   "execution_count": null,
   "metadata": {},
   "outputs": [],
   "source": [
    "from google.colab import runtime\n",
    "\n",
    "runtime.unassign()"
   ]
  },
  {
   "cell_type": "code",
   "execution_count": null,
   "metadata": {},
   "outputs": [],
   "source": [
    "from google.colab import runtime\n",
    "import wandb\n",
    "\n",
    "wandb.finish()\n",
    "runtime.unassign()"
   ]
  },
  {
   "cell_type": "markdown",
   "metadata": {},
   "source": [
    "# Jupyter Notebookについて"
   ]
  },
  {
   "cell_type": "markdown",
   "metadata": {},
   "source": [
    "pythonの実行コードを終了させる方法\n",
    "- os._exit(n)\n",
    "    - プロセス全体を強制終了させる低レベルの関数で、通常のクリーンアップ処理や例外処理を一切行わずにプログラムを即座に停止する\n",
    "    - doc: https://docs.python.org/ja/3/library/os.html#os._exit\n",
    "    - 例付き: https://www.python.digibeatrix.com/archives/335\n",
    "\n",
    "- sys.exit(n)\n",
    "    - 他の方法\n",
    "- TODO: どっちがいいの？"
   ]
  },
  {
   "cell_type": "code",
   "execution_count": null,
   "metadata": {},
   "outputs": [],
   "source": [
    "import os\n",
    "os._exit(0)"
   ]
  },
  {
   "cell_type": "code",
   "execution_count": null,
   "metadata": {},
   "outputs": [],
   "source": [
    "import sys\n",
    "sys.exit(0)  # 正常終了\n",
    "sys.exit(1)  # 異常終了\n"
   ]
  },
  {
   "cell_type": "markdown",
   "metadata": {},
   "source": []
  }
 ],
 "metadata": {
  "language_info": {
   "name": "python"
  }
 },
 "nbformat": 4,
 "nbformat_minor": 2
}
