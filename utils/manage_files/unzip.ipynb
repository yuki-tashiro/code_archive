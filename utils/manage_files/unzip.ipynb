{
 "cells": [
  {
   "cell_type": "code",
   "execution_count": null,
   "metadata": {},
   "outputs": [
    {
     "ename": "",
     "evalue": "",
     "output_type": "error",
     "traceback": [
      "\u001b[1;31mカーネルを起動できませんでした。 \n",
      "\u001b[1;31mFileNotFoundError: [Errno 2] No such file or directory: '/content/drive/MyDrive/MatsuoLab/LLaVA-Med-JP/data/all_tables.json'. \n",
      "\u001b[1;31m詳細については、Jupyter [ログ] (command:jupyter.viewOutput) を参照してください。"
     ]
    }
   ],
   "source": [
    "# ---------------------------------\n",
    "# zipファイルを解凍\n",
    "# ---------------------------------\n",
    "\n",
    "import zipfile\n",
    "from pathlib import Path\n",
    "\n",
    "# 解凍するZIPファイルのパス\n",
    "zip_path = Path('/Volumes/SSD_BUFF/OneDrive_手動同期/3.Photoshop・Lightroom/2024-08-03-Hallstatt.zip')\n",
    "\n",
    "# 解凍先ディレクトリ\n",
    "unzip_dir = Path('/Volumes/SSD_BUFF/OneDrive_手動同期/3.Photoshop・Lightroom/')\n",
    "\n",
    "# 解凍先ディレクトリが存在しない場合は作成\n",
    "unzip_dir.mkdir(parents=True, exist_ok=True)\n",
    "\n",
    "# ZIPファイルの解凍\n",
    "with zipfile.ZipFile(zip_path, 'r') as zip_ref:\n",
    "    zip_ref.extractall(unzip_dir)\n",
    "\n",
    "print(f'ZIPファイルを {unzip_dir} に解凍しました')"
   ]
  },
  {
   "cell_type": "code",
   "execution_count": null,
   "metadata": {},
   "outputs": [],
   "source": []
  }
 ],
 "metadata": {
  "kernelspec": {
   "display_name": "base",
   "language": "python",
   "name": "python3"
  },
  "language_info": {
   "name": "python",
   "version": "3.10.9"
  }
 },
 "nbformat": 4,
 "nbformat_minor": 2
}
