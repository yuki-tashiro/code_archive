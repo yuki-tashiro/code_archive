{
 "cells": [
  {
   "cell_type": "code",
   "execution_count": null,
   "metadata": {},
   "outputs": [],
   "source": [
    "# Google Colabでwandbにloginする際にコード\n",
    "from google.colab import userdata\n",
    "wandb_api_key = userdata.get('WANDB_API_KEY')\n",
    "!wandb login $wandb_api_key\n"
   ]
  }
 ],
 "metadata": {
  "language_info": {
   "name": "python"
  }
 },
 "nbformat": 4,
 "nbformat_minor": 2
}
