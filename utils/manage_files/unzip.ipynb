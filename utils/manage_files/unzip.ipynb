{
 "cells": [
  {
   "cell_type": "markdown",
   "metadata": {},
   "source": [
    "# 単一のzip fileを解凍する関数"
   ]
  },
  {
   "cell_type": "code",
   "execution_count": null,
   "metadata": {},
   "outputs": [
    {
     "name": "stdout",
     "output_type": "stream",
     "text": [
      "解凍先ディレクトリが指定されていないため、ZIPファイルと同じ場所に解凍します: /Users/yukitashiro/Downloads\n",
      "ZIPファイルを /Users/yukitashiro/Downloads に解凍しました\n"
     ]
    }
   ],
   "source": [
    "import zipfile\n",
    "from pathlib import Path\n",
    "\n",
    "def unzip_file(zip_path, unzip_dir=None):\n",
    "    \"\"\"\n",
    "    ZIPファイルを指定したディレクトリに解凍する関数。\n",
    "\n",
    "    Args:\n",
    "        zip_path (str or Path): 解凍するZIPファイルのパス。\n",
    "        unzip_dir (str or Path, optional): 解凍先ディレクトリのパス。未指定の場合はZIPファイルと同じ場所に解凍されます。\n",
    "\n",
    "    Returns:\n",
    "        None\n",
    "    Usage:\n",
    "        zip_path = '/Users/user_name/Downloads/dir.zip'\n",
    "        unzip_file(zip_path)\n",
    "\n",
    "        unzip_file('/path/to/your/file.zip', '/path/to/unzip/directory')\n",
    "    \"\"\"\n",
    "    zip_path = Path(zip_path)\n",
    "\n",
    "    if unzip_dir is None:\n",
    "        unzip_dir = zip_path.parent\n",
    "        print(f'解凍先ディレクトリが指定されていないため、ZIPファイルと同じ場所に解凍します: {unzip_dir}')\n",
    "    else:\n",
    "        unzip_dir = Path(unzip_dir)\n",
    "\n",
    "    unzip_dir.mkdir(parents=True, exist_ok=True)  # 解凍先ディレクトリが存在しない場合は作成\n",
    "\n",
    "    with zipfile.ZipFile(zip_path, 'r') as zip_ref:  # ZIPファイルを解凍\n",
    "        zip_ref.extractall(unzip_dir)\n",
    "\n",
    "    print(f'ZIPファイルを以下のディレクトリに解凍しました: {unzip_dir}')\n",
    "\n",
    "\n",
    "# 使用例\n",
    "zip_path = '/Users/yukitashiro/Downloads/2024-08-03-Hallstatt.zip'\n",
    "unzip_file(zip_path)"
   ]
  },
  {
   "cell_type": "markdown",
   "metadata": {},
   "source": [
    "# 指定したディレクトリ内のすべての.zipファイルを解凍"
   ]
  },
  {
   "cell_type": "markdown",
   "metadata": {},
   "source": [
    "指定のディレクトリ内を再帰的に探索し、.zipファイルを選択し、解凍するコード"
   ]
  },
  {
   "cell_type": "code",
   "execution_count": null,
   "metadata": {},
   "outputs": [],
   "source": [
    "from pathlib import Path\n",
    "import zipfile\n",
    "\n",
    "def unzip_all_files(zip_dir, extract_dir):\n",
    "    \"\"\"\n",
    "    指定したディレクトリ内のすべての.zipファイルを解凍します。\n",
    "\n",
    "    Parameters:\n",
    "    zip_dir (str or Path): .zipファイルが格納されているディレクトリのパス\n",
    "    extract_dir (str or Path): 解凍先のディレクトリのパス\n",
    "    Usage:\n",
    "        unzip_all_files('./zip_files/', './extracted_files/')\n",
    "    \"\"\"\n",
    "    zip_dir = Path(zip_dir)\n",
    "    extract_dir = Path(extract_dir)\n",
    "\n",
    "    # zip_dir内のすべての.zipファイルを取得\n",
    "    zip_files = zip_dir.glob('*.zip')\n",
    "\n",
    "    # 各.zipファイルを解凍\n",
    "    for zip_file in zip_files:\n",
    "        with zipfile.ZipFile(zip_file, 'r') as z:\n",
    "            # .zipファイル名と同じ名前のフォルダを作成して解凍\n",
    "            extract_path = extract_dir / zip_file.stem\n",
    "            extract_path.mkdir(parents=True, exist_ok=True)\n",
    "            z.extractall(extract_path)\n",
    "            print(f'{zip_file} を {extract_path} に解凍しました。')\n",
    "\n",
    "\n",
    "# Usage\n",
    "zip_directory = './zip_files/'\n",
    "extraction_directory = './extracted_files/'\n",
    "unzip_all_files(zip_directory, extraction_directory)\n"
   ]
  },
  {
   "cell_type": "markdown",
   "metadata": {},
   "source": [
    "# コマンドラインでの実行を想定したコード"
   ]
  },
  {
   "cell_type": "code",
   "execution_count": null,
   "metadata": {},
   "outputs": [],
   "source": [
    "!unzip /content/drive/MyDrive/CVPR_MedSAM/MedSAM/data/Dermoscopy.zip -d /content/drive/MyDrive/CVPR_MedSAM/MedSAM/data\n",
    "print(\"実行完了\")"
   ]
  },
  {
   "cell_type": "markdown",
   "metadata": {},
   "source": [
    "# google drive のurlからダウンロードするコード"
   ]
  },
  {
   "cell_type": "code",
   "execution_count": null,
   "metadata": {},
   "outputs": [],
   "source": [
    "import gdown\n",
    "\n",
    "# https://drive.google.com/file/d/1l8ipIwINtT2kaJIZICEpnJAw0t6gCSpJ/view?usp=drive_link\n",
    "url = 'https://drive.google.com/uc?id=1l8ipIwINtT2kaJIZICEpnJAw0t6gCSpJ'\n",
    "output = '/content/drive/MyDrive/CVPR_MedSAM/MedSAM/data/Dermoscopy.zip'\n",
    "\n",
    "gdown.download(url, output, quiet=False)\n",
    "print(\"ダウンロード完了\")"
   ]
  },
  {
   "cell_type": "markdown",
   "metadata": {},
   "source": [
    "# その他"
   ]
  },
  {
   "cell_type": "code",
   "execution_count": 1,
   "metadata": {},
   "outputs": [
    {
     "name": "stdout",
     "output_type": "stream",
     "text": [
      "ZIPファイルを /Users/yukitashiro/Downloads に解凍しました\n"
     ]
    }
   ],
   "source": [
    "# ---------------------------------\n",
    "# zipファイルを解凍\n",
    "# ---------------------------------\n",
    "\n",
    "import zipfile\n",
    "from pathlib import Path\n",
    "\n",
    "# 解凍するZIPファイルのパス\n",
    "zip_path = Path('/Users/yukitashiro/Downloads/Photoshop・Lightroom.zip')\n",
    "\n",
    "# 解凍先ディレクトリ\n",
    "unzip_dir = Path('/Users/yukitashiro/Downloads/')\n",
    "\n",
    "# 解凍先ディレクトリが存在しない場合は作成\n",
    "unzip_dir.mkdir(parents=True, exist_ok=True)\n",
    "\n",
    "# ZIPファイルの解凍\n",
    "with zipfile.ZipFile(zip_path, 'r') as zip_ref:\n",
    "    zip_ref.extractall(unzip_dir)\n",
    "\n",
    "print(f'ZIPファイルを {unzip_dir} に解凍しました')"
   ]
  }
 ],
 "metadata": {
  "kernelspec": {
   "display_name": ".venv",
   "language": "python",
   "name": "python3"
  },
  "language_info": {
   "codemirror_mode": {
    "name": "ipython",
    "version": 3
   },
   "file_extension": ".py",
   "mimetype": "text/x-python",
   "name": "python",
   "nbconvert_exporter": "python",
   "pygments_lexer": "ipython3",
   "version": "3.11.11"
  }
 },
 "nbformat": 4,
 "nbformat_minor": 2
}
